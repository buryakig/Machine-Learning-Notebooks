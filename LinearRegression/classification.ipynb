{
 "cells": [
  {
   "cell_type": "code",
   "execution_count": 2,
   "metadata": {},
   "outputs": [],
   "source": [
    "import numpy as np\n",
    "import matplotlib.pyplot as plt\n",
    "import copy, math"
   ]
  },
  {
   "cell_type": "code",
   "execution_count": 3,
   "metadata": {},
   "outputs": [],
   "source": [
    "# Sigmoid funtion is widely used for fitting clasification data\n",
    "def sigmoid(x):\n",
    "    return 1 / (1 + np.exp(-x))"
   ]
  },
  {
   "cell_type": "code",
   "execution_count": 4,
   "metadata": {},
   "outputs": [],
   "source": [
    "# Generate an array of evenly spaced values between -10 and 10\n",
    "x = np.arange(-10,11)\n",
    "y = sigmoid(x)"
   ]
  },
  {
   "cell_type": "code",
   "execution_count": 5,
   "metadata": {},
   "outputs": [
    {
     "data": {
      "image/png": "[encoded data removed]",
      "text/plain": [
       "<Figure size 360x216 with 1 Axes>"
      ]
     },
     "metadata": {
      "needs_background": "light"
     },
     "output_type": "display_data"
    }
   ],
   "source": [
    "# Plotting sigmoid function\n",
    "fig, ax = plt.subplots(1, 1, figsize = (5, 3))\n",
    "ax.plot(x, y, c = 'b')\n",
    "ax.set_title(\"Sigmoid function\")\n",
    "ax.set_ylabel('sigmoid(x)')\n",
    "ax.set_xlabel('x')\n",
    "plt.show()"
   ]
  },
  {
   "cell_type": "code",
   "execution_count": 6,
   "metadata": {},
   "outputs": [],
   "source": [
    "# Logistic regression model applies sigmoid to familiar linear regression model\n",
    "\n",
    "# Set up our data\n",
    "x_tdata = np.array([[0.5, 1.5], [1,1], [1.5, 0.5], [3, 0.5], [2, 2], [1, 2.5]])  #(m,n)\n",
    "y_tdata = np.array([0, 0, 0, 1, 1, 1])"
   ]
  },
  {
   "cell_type": "code",
   "execution_count": 15,
   "metadata": {},
   "outputs": [
    {
     "data": {
      "text/plain": [
       "<matplotlib.collections.PathCollection at 0x26fa6595a30>"
      ]
     },
     "execution_count": 15,
     "metadata": {},
     "output_type": "execute_result"
    },
    {
     "data": {
      "image/png": "[encoded data removed]",
      "text/plain": [
       "<Figure size 288x288 with 1 Axes>"
      ]
     },
     "metadata": {
      "needs_background": "light"
     },
     "output_type": "display_data"
    }
   ],
   "source": [
    "# Plot the generated dataset with markers representing respective values\n",
    "fig, ax = plt.subplots(1,1, figsize = (4, 4))\n",
    "\n",
    "ones = y_tdata == 1\n",
    "zeros = y_tdata == 0\n",
    "\n",
    "ax.scatter(x_tdata[ones, 0], x_tdata[ones, 1], s = 100, marker='x')\n",
    "ax.scatter(x_tdata[zeros, 0], x_tdata[zeros, 1], s = 100, marker='o')"
   ]
  },
  {
   "cell_type": "code",
   "execution_count": 16,
   "metadata": {},
   "outputs": [],
   "source": [
    "# Put our linear model into separate function\n",
    "def linear_model(x, a, b):\n",
    "    return np.dot(x,a) + b"
   ]
  },
  {
   "cell_type": "code",
   "execution_count": 21,
   "metadata": {},
   "outputs": [],
   "source": [
    "# Cost function for a sigmoid. Not that much diference from linear cost\n",
    "def compute_cost(x, y, a, b):\n",
    "    m = x.shape[0]\n",
    "    cost = 0.0\n",
    "    for i in range(m):\n",
    "        sig_res = sigmoid(linear_model(x[i], a, b))\n",
    "        cost += -y[i] * np.log(sig_res) - (1 - y[i]) * np.log(1 - sig_res)\n",
    "    \n",
    "    cost = cost / m\n",
    "    return cost"
   ]
  },
  {
   "cell_type": "code",
   "execution_count": 22,
   "metadata": {},
   "outputs": [
    {
     "name": "stdout",
     "output_type": "stream",
     "text": [
      "0.36686678640551745\n"
     ]
    }
   ],
   "source": [
    "# Test our cost function\n",
    "w_tmp = np.array([1,1])\n",
    "b_tmp = -3\n",
    "print(compute_cost(x_tdata, y_tdata, w_tmp, b_tmp))"
   ]
  },
  {
   "cell_type": "code",
   "execution_count": 17,
   "metadata": {},
   "outputs": [],
   "source": [
    "# Gradient function is also pretty much the same\n",
    "def compute_gradient(x, y, a, b):\n",
    "    # Fguring out the shape of our input parameters (will be same for output)\n",
    "    m, n = x.shape\n",
    "\n",
    "    # Setting up initial parameters for partial derivatives\n",
    "    dda = np.zeros((n,))\n",
    "    ddb = 0\n",
    "\n",
    "    # Do summing according to cost function gradient formula with the for loop\n",
    "    for i in range(m):\n",
    "        sigm = sigmoid(linear_model(x[i], a, b))\n",
    "        diff = (sigm - y[i])\n",
    "        for j in range(n):\n",
    "            dda[j] = dda[j] + diff * x[i, j]\n",
    "        ddb = ddb + diff\n",
    "\n",
    "    # Return respective gradient (as a vector of partial derivatives)\n",
    "    dda = dda / m\n",
    "    ddb = ddb / m  \n",
    "\n",
    "    return dda, ddb\n"
   ]
  },
  {
   "cell_type": "code",
   "execution_count": 23,
   "metadata": {},
   "outputs": [],
   "source": [
    "# The logic of computing gradient descent stays the same\n",
    "def gradient_descent(x, y, a_in, b_in, alpha, num_iters):\n",
    "    # Copying coefficients initial values\n",
    "    a = copy.deepcopy(a_in)  #avoid modifying global w within function\n",
    "    b = b_in\n",
    "\n",
    "    for i in range(num_iters):\n",
    "        # Calculate gradient terms\n",
    "        dda, ddb = compute_gradient(x, y, a, b)\n",
    "\n",
    "        # Update coefficients\n",
    "        a = a - alpha * dda\n",
    "        b = b - alpha * ddb\n",
    "\n",
    "    return a, b"
   ]
  },
  {
   "cell_type": "code",
   "execution_count": 24,
   "metadata": {},
   "outputs": [
    {
     "name": "stdout",
     "output_type": "stream",
     "text": [
      "\n",
      "updated parameters: w:[5.28123029 5.07815608], b:-14.222409982019837\n"
     ]
    }
   ],
   "source": [
    "# Testing our gradient function. Starting with creating variables to pass in\n",
    "a_tmp  = np.zeros_like(x_tdata[0])\n",
    "b_tmp  = 0.\n",
    "alph = 0.1\n",
    "iters = 10000\n",
    "\n",
    "a_out, b_out = gradient_descent(x_tdata, y_tdata, a_tmp, b_tmp, alph, iters) \n",
    "print(f\"\\nupdated parameters: w:{a_out}, b:{b_out}\")"
   ]
  },
  {
   "cell_type": "code",
   "execution_count": 25,
   "metadata": {},
   "outputs": [
    {
     "data": {
      "image/png": "[encoded data removed]",
      "text/plain": [
       "<Figure size 288x288 with 1 Axes>"
      ]
     },
     "metadata": {
      "needs_background": "light"
     },
     "output_type": "display_data"
    }
   ],
   "source": [
    "# Plot the resulting boundary of the model\n",
    "fig,ax = plt.subplots(1,1,figsize=(4,4))\n",
    "\n",
    "ones = y_tdata == 1\n",
    "zeros = y_tdata == 0\n",
    "\n",
    "ax.scatter(x_tdata[ones, 0], x_tdata[ones, 1], s = 100, marker='x')\n",
    "ax.scatter(x_tdata[zeros, 0], x_tdata[zeros, 1], s = 100, marker='o')\n",
    "\n",
    "# Plot the decision boundary\n",
    "x0 = -b_out/a_out[0]\n",
    "x1 = -b_out/a_out[1]\n",
    "ax.plot([0,x0],[x1,0])\n",
    "\n",
    "plt.show()"
   ]
  }
 ],
 "metadata": {
  "kernelspec": {
   "display_name": "Python 3",
   "language": "python",
   "name": "python3"
  },
  "language_info": {
   "codemirror_mode": {
    "name": "ipython",
    "version": 3
   },
   "file_extension": ".py",
   "mimetype": "text/x-python",
   "name": "python",
   "nbconvert_exporter": "python",
   "pygments_lexer": "ipython3",
   "version": "3.9.10"
  },
  "orig_nbformat": 4
 },
 "nbformat": 4,
 "nbformat_minor": 2
}
