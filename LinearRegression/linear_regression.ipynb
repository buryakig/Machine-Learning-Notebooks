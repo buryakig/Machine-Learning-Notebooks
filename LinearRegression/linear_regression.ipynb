{
 "cells": [
  {
   "cell_type": "code",
   "execution_count": 1,
   "metadata": {},
   "outputs": [],
   "source": [
    "import numpy as np\n",
    "import matplotlib.pyplot as plt"
   ]
  },
  {
   "cell_type": "code",
   "execution_count": 3,
   "metadata": {},
   "outputs": [
    {
     "name": "stdout",
     "output_type": "stream",
     "text": [
      "x_tdata = [1. 2.]\n",
      "y_tdata = [300. 500.]\n"
     ]
    }
   ],
   "source": [
    "# x_tdata is the input variable\n",
    "# y_tdata is the target\n",
    "x_tdata = np.array([1.0, 2.0])\n",
    "y_tdata = np.array([300.0, 500.0])\n",
    "print(f\"x_tdata = {x_tdata}\")\n",
    "print(f\"y_tdata = {y_tdata}\")"
   ]
  },
  {
   "cell_type": "code",
   "execution_count": 6,
   "metadata": {},
   "outputs": [
    {
     "name": "stdout",
     "output_type": "stream",
     "text": [
      "Shape of the train input data: (2,)\n",
      "Number of training examples is: 2\n"
     ]
    }
   ],
   "source": [
    "# m is the number of training examples\n",
    "print(f\"Shape of the train input data: {x_tdata.shape}\")\n",
    "sample_length = x_tdata.shape[0]\n",
    "print(f\"Number of training examples is: {sample_length}\")\n",
    "\n",
    "# # m is the number of training examples\n",
    "# sample_length = len(x_tdata)\n",
    "# print(f\"Number of training examples is: {sample_length}\")"
   ]
  },
  {
   "cell_type": "code",
   "execution_count": 8,
   "metadata": {},
   "outputs": [
    {
     "data": {
      "image/png": "[encoded data removed]",
      "text/plain": [
       "<Figure size 640x480 with 1 Axes>"
      ]
     },
     "metadata": {},
     "output_type": "display_data"
    }
   ],
   "source": [
    "# Plot the data points\n",
    "plt.scatter(x_tdata, x_tdata)\n",
    "# Set the title\n",
    "plt.title(\"Data Points Scatter\")\n",
    "# Set the y-axis label\n",
    "plt.ylabel('Result Data')\n",
    "# Set the x-axis label\n",
    "plt.xlabel('Input Data')\n",
    "plt.show()"
   ]
  },
  {
   "cell_type": "code",
   "execution_count": 9,
   "metadata": {},
   "outputs": [],
   "source": [
    "def lmodel(x, a, b):\n",
    "    return x * a + b"
   ]
  },
  {
   "cell_type": "code",
   "execution_count": 10,
   "metadata": {},
   "outputs": [],
   "source": [
    "def compute_model(x, a, b):\n",
    "    # number of training examples\n",
    "    length = x.shape[0]\n",
    "    model_res = np.zeros(length)\n",
    "    for i in range(length):\n",
    "        model_res[i] = lmodel(x[i], a, b)\n",
    "    \n",
    "    return model_res"
   ]
  },
  {
   "cell_type": "code",
   "execution_count": null,
   "metadata": {},
   "outputs": [],
   "source": [
    "def compute_cost(x, y, a, b):\n",
    "    # number of training examples\n",
    "    length = x.shape[0]\n",
    "    \n",
    "    cost_sum = 0\n",
    "    for i in range(length):\n",
    "        model = lmodel(x[i], a, b)\n",
    "        cost = (model - y[i]) ** 2\n",
    "        cost_sum = cost_sum + cost\n",
    "        \n",
    "    total_cost = cost_sum / (2 * m)\n",
    "    return total_cost\n",
    "    "
   ]
  }
 ],
 "metadata": {
  "kernelspec": {
   "display_name": "base",
   "language": "python",
   "name": "python3"
  },
  "language_info": {
   "codemirror_mode": {
    "name": "ipython",
    "version": 3
   },
   "file_extension": ".py",
   "mimetype": "text/x-python",
   "name": "python",
   "nbconvert_exporter": "python",
   "pygments_lexer": "ipython3",
   "version": "3.9.13"
  },
  "orig_nbformat": 4
 },
 "nbformat": 4,
 "nbformat_minor": 2
}
