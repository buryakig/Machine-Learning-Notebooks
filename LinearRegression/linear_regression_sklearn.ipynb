{
 "cells": [
  {
   "cell_type": "code",
   "execution_count": 2,
   "metadata": {},
   "outputs": [],
   "source": [
    "import numpy as np\n",
    "import matplotlib.pyplot as plt\n",
    "\n",
    "# SGDRegressor has a gradient descent regression model\n",
    "# StandartScaler is used for std normalization\n",
    "from sklearn.linear_model import SGDRegressor\n",
    "from sklearn.linear_model import LinearRegression\n",
    "from sklearn.preprocessing import StandardScaler"
   ]
  },
  {
   "cell_type": "code",
   "execution_count": 3,
   "metadata": {},
   "outputs": [],
   "source": [
    "# Loding data from text file\n",
    "def load_from_text():\n",
    "    data = np.loadtxt(\"./data/houses.txt\", delimiter=\",\")\n",
    "    x = data[:,:4]\n",
    "    y = data[:,4]\n",
    "    return x, y"
   ]
  },
  {
   "cell_type": "code",
   "execution_count": 4,
   "metadata": {},
   "outputs": [
    {
     "name": "stdout",
     "output_type": "stream",
     "text": [
      "x_tdata = [[1.652e+03 2.000e+00 1.000e+00 2.100e+01]\n",
      " [1.088e+03 2.000e+00 1.000e+00 3.500e+01]\n",
      " [1.694e+03 3.000e+00 1.000e+00 1.300e+01]\n",
      " [1.073e+03 2.000e+00 1.000e+00 1.000e+02]\n",
      " [1.419e+03 3.000e+00 2.000e+00 1.900e+01]\n",
      " [2.183e+03 3.000e+00 1.000e+00 5.200e+01]\n",
      " [1.396e+03 3.000e+00 2.000e+00 2.340e+01]\n",
      " [1.208e+03 2.000e+00 1.000e+00 1.550e+01]\n",
      " [8.820e+02 3.000e+00 1.000e+00 4.900e+01]\n",
      " [2.030e+03 4.000e+00 2.000e+00 4.500e+01]\n",
      " [1.216e+03 2.000e+00 2.000e+00 7.400e+01]\n",
      " [2.482e+03 4.000e+00 2.000e+00 1.600e+01]\n",
      " [1.660e+03 3.000e+00 2.000e+00 1.900e+01]\n",
      " [1.099e+03 2.100e+00 2.100e+00 9.500e+01]\n",
      " [1.775e+03 3.000e+00 2.000e+00 2.800e+01]\n",
      " [2.030e+03 4.000e+00 2.000e+00 4.500e+01]\n",
      " [1.784e+03 4.000e+00 2.000e+00 1.170e+02]\n",
      " [1.073e+03 2.000e+00 1.000e+00 1.000e+02]\n",
      " [1.953e+03 3.000e+00 2.000e+00 1.600e+01]\n",
      " [1.324e+03 2.000e+00 2.000e+00 1.200e+01]\n",
      " [1.616e+03 3.000e+00 1.000e+00 1.600e+01]\n",
      " [8.160e+02 2.000e+00 1.000e+00 5.800e+01]\n",
      " [1.349e+03 3.100e+00 1.000e+00 2.100e+01]\n",
      " [1.571e+03 3.000e+00 1.000e+00 1.400e+01]\n",
      " [1.486e+03 3.000e+00 1.000e+00 5.700e+01]\n",
      " [1.506e+03 2.000e+00 1.000e+00 1.600e+01]\n",
      " [1.097e+03 3.000e+00 1.000e+00 2.700e+01]\n",
      " [1.040e+03 3.000e+00 1.000e+00 2.500e+01]\n",
      " [1.431e+03 3.000e+00 1.000e+00 2.200e+01]\n",
      " [1.159e+03 3.000e+00 1.000e+00 5.200e+01]\n",
      " [1.547e+03 3.000e+00 2.000e+00 1.200e+01]\n",
      " [1.764e+03 3.000e+00 2.000e+00 2.400e+01]\n",
      " [1.208e+03 2.000e+00 1.000e+00 1.400e+01]\n",
      " [1.470e+03 3.000e+00 2.000e+00 2.400e+01]\n",
      " [1.768e+03 3.000e+00 2.000e+00 8.400e+01]\n",
      " [1.654e+03 3.000e+00 1.000e+00 1.900e+01]\n",
      " [1.029e+03 3.000e+00 1.000e+00 6.000e+01]\n",
      " [1.120e+03 2.000e+00 2.000e+00 1.600e+01]\n",
      " [1.392e+03 3.000e+00 1.000e+00 6.400e+01]\n",
      " [1.603e+03 3.000e+00 2.000e+00 2.900e+01]\n",
      " [1.215e+03 3.000e+00 1.000e+00 6.300e+01]\n",
      " [1.073e+03 2.000e+00 1.000e+00 1.000e+02]\n",
      " [1.431e+03 3.000e+00 1.000e+00 5.900e+01]\n",
      " [2.090e+03 3.000e+00 2.000e+00 2.600e+01]\n",
      " [1.790e+03 4.000e+00 2.000e+00 4.900e+01]\n",
      " [1.484e+03 3.000e+00 2.000e+00 1.600e+01]\n",
      " [1.040e+03 3.010e+00 1.000e+00 2.500e+01]\n",
      " [1.431e+03 3.010e+00 1.000e+00 2.200e+01]\n",
      " [1.159e+03 3.010e+00 1.000e+00 5.300e+01]\n",
      " [1.547e+03 3.010e+00 2.000e+00 1.200e+01]\n",
      " [1.983e+03 3.020e+00 2.000e+00 2.120e+01]\n",
      " [1.056e+03 3.010e+00 1.000e+00 5.300e+01]\n",
      " [1.180e+03 2.010e+00 1.000e+00 9.900e+01]\n",
      " [1.358e+03 2.010e+00 1.000e+00 1.700e+01]\n",
      " [1.456e+03 3.000e+00 2.000e+00 1.600e+01]\n",
      " [1.446e+03 3.000e+00 2.000e+00 2.500e+01]\n",
      " [1.208e+03 2.000e+00 1.000e+00 1.500e+01]\n",
      " [8.820e+02 3.000e+00 1.000e+00 4.900e+01]\n",
      " [2.030e+03 4.000e+00 2.000e+00 4.500e+01]\n",
      " [1.040e+03 3.000e+00 1.000e+00 6.200e+01]\n",
      " [8.030e+02 2.000e+00 1.000e+00 8.000e+01]\n",
      " [1.541e+03 3.000e+00 1.000e+00 1.600e+01]\n",
      " [9.480e+02 3.000e+00 1.000e+00 5.300e+01]\n",
      " [1.224e+03 2.000e+00 2.000e+00 1.200e+01]\n",
      " [1.432e+03 2.000e+00 1.000e+00 4.300e+01]\n",
      " [1.660e+03 3.000e+00 2.000e+00 1.900e+01]\n",
      " [1.212e+03 3.000e+00 1.000e+00 2.000e+01]\n",
      " [1.050e+03 2.000e+00 1.000e+00 6.500e+01]\n",
      " [1.430e+03 3.000e+00 2.000e+00 2.100e+01]\n",
      " [1.656e+03 3.000e+00 1.000e+00 6.100e+01]\n",
      " [1.316e+03 3.000e+00 1.000e+00 1.400e+01]\n",
      " [1.593e+03 0.000e+00 1.000e+00 2.000e+01]\n",
      " [1.097e+03 3.000e+00 1.000e+00 3.700e+01]\n",
      " [1.004e+03 2.000e+00 1.000e+00 5.100e+01]\n",
      " [9.040e+02 3.000e+00 1.000e+00 5.500e+01]]\n",
      "y_tdata = [502.    340.    490.7   216.96  368.2   313.    343.    414.    225.\n",
      " 390.    237.    562.426 390.    158.    426.    390.    283.2   216.96\n",
      " 504.    325.    464.    220.    358.    478.    334.    426.98  290.\n",
      " 304.    384.    316.    430.4   463.    390.8   354.    350.    460.\n",
      " 237.    288.304 332.    351.8   310.    216.96  330.    480.    330.3\n",
      " 348.    304.    384.    316.    430.487 445.    284.    275.    414.\n",
      " 378.    350.    412.    225.    390.    267.4   174.    440.    216.\n",
      " 329.    388.    390.    356.    257.8   340.    430.    400.282 572.\n",
      " 304.    298.    219.8  ]\n"
     ]
    }
   ],
   "source": [
    "# x_tdata is the input variable\n",
    "# y_tdata is the target\n",
    "x_tdata, y_tdata = load_from_text()\n",
    "\n",
    "print(f\"x_tdata = {x_tdata}\")\n",
    "print(f\"y_tdata = {y_tdata}\")\n",
    "\n",
    "x_label_names = np.array([\"Size(sqft)\", \"Bedrooms\", \"Floors\", \"Age\"])\n",
    "y_label_name = \"Price (k)\""
   ]
  },
  {
   "cell_type": "code",
   "execution_count": 5,
   "metadata": {},
   "outputs": [],
   "source": [
    "# Setup the data structure to normalize the data\n",
    "normalizer = StandardScaler()\n",
    "x_norm = normalizer.fit_transform(x_tdata)"
   ]
  },
  {
   "cell_type": "code",
   "execution_count": 6,
   "metadata": {},
   "outputs": [
    {
     "name": "stdout",
     "output_type": "stream",
     "text": [
      "SGDRegressor()\n",
      "number of iterations completed: 131, number of weight updates: 9826.0\n"
     ]
    }
   ],
   "source": [
    "# Create and fit regression model\n",
    "gdlr = SGDRegressor(max_iter = 1000)\n",
    "gdlr.fit(x_norm, y_tdata)\n",
    "print(gdlr)\n",
    "print(f\"number of iterations completed: {gdlr.n_iter_}, number of weight updates: {gdlr.t_}\")"
   ]
  },
  {
   "cell_type": "code",
   "execution_count": 7,
   "metadata": {},
   "outputs": [
    {
     "name": "stdout",
     "output_type": "stream",
     "text": [
      "model parameters: w: [ 72.74716452 -19.75849637 -22.69688504 -45.08491108], b:[351.07907932]\n"
     ]
    }
   ],
   "source": [
    "# We can fetch the parameters, but we have to remember, that those are for normalized data\n",
    "b_norm = gdlr.intercept_\n",
    "a_norm = gdlr.coef_\n",
    "print(f\"model parameters: w: {a_norm}, b:{b_norm}\")"
   ]
  },
  {
   "cell_type": "code",
   "execution_count": 45,
   "metadata": {},
   "outputs": [
    {
     "name": "stdout",
     "output_type": "stream",
     "text": [
      "prediction using np.dot() and sgdr.predict match: False\n",
      "Prediction on training set:\n",
      "[474.48293217 333.91156293 466.39009953 219.89172041]\n",
      "Computed predictions with fetched params:\n",
      "[474.48293217 333.91156293 466.39009953 219.89172041]\n",
      "Target values \n",
      "[502.   340.   490.7  216.96]\n"
     ]
    }
   ],
   "source": [
    "# Make a prediction based on the model we built using sgdr.predict()\n",
    "y_pred_gdlr = gdlr.predict(x_norm)\n",
    "y_pred = np.dot(x_norm, a_norm) + b_norm  \n",
    "print(f\"prediction using np.dot() and sgdr.predict match: {(y_pred == y_tdata).all()}\")\n",
    "print(f\"Prediction on training set:\\n{y_pred_gdlr[:4]}\" )\n",
    "print(f\"Computed predictions with fetched params:\\n{y_pred[:4]}\" )\n",
    "print(f\"Target values \\n{y_tdata[:4]}\")"
   ]
  },
  {
   "cell_type": "code",
   "execution_count": 34,
   "metadata": {},
   "outputs": [
    {
     "data": {
      "image/png": "[encoded data removed]",
      "text/plain": [
       "<Figure size 864x216 with 4 Axes>"
      ]
     },
     "metadata": {
      "needs_background": "light"
     },
     "output_type": "display_data"
    }
   ],
   "source": [
    "# Plot predictions and targets vs original features    \n",
    "fig,ax=plt.subplots(1,4,figsize=(12,3),sharey=True)\n",
    "for i in range(len(ax)):\n",
    "    ax[i].scatter(x_tdata[:,i],y_tdata, label = 'target')\n",
    "    ax[i].set_xlabel(x_label_names[i])\n",
    "    ax[i].scatter(x_tdata[:,i],y_pred_gdlr, label = 'predict')\n",
    "ax[0].set_ylabel(\"Price\")\n",
    "fig.suptitle(\"Target versus prediction using z-score normalized model\")\n",
    "plt.show()"
   ]
  },
  {
   "cell_type": "code",
   "execution_count": 38,
   "metadata": {},
   "outputs": [
    {
     "data": {
      "text/plain": [
       "LinearRegression()"
      ]
     },
     "execution_count": 38,
     "metadata": {},
     "output_type": "execute_result"
    }
   ],
   "source": [
    "# Another \"closed-form\" solution for linear regression\n",
    "# It has to be faster for smaller data sets\n",
    "linear_model = LinearRegression()\n",
    "linear_model.fit(x_tdata, y_tdata)"
   ]
  },
  {
   "cell_type": "code",
   "execution_count": 8,
   "metadata": {},
   "outputs": [
    {
     "ename": "NameError",
     "evalue": "name 'linear_model' is not defined",
     "output_type": "error",
     "traceback": [
      "\u001b[1;31m---------------------------------------------------------------------------\u001b[0m",
      "\u001b[1;31mNameError\u001b[0m                                 Traceback (most recent call last)",
      "\u001b[1;32me:\\GitHub\\MachineLearningNotebooks\\LinearRegression\\linear_regression_sklearn.ipynb Cell 10\u001b[0m in \u001b[0;36m<module>\u001b[1;34m\u001b[0m\n\u001b[0;32m      <a href='vscode-notebook-cell:/e%3A/GitHub/MachineLearningNotebooks/LinearRegression/linear_regression_sklearn.ipynb#X13sZmlsZQ%3D%3D?line=0'>1</a>\u001b[0m \u001b[39m# Fetching parameters\u001b[39;00m\n\u001b[1;32m----> <a href='vscode-notebook-cell:/e%3A/GitHub/MachineLearningNotebooks/LinearRegression/linear_regression_sklearn.ipynb#X13sZmlsZQ%3D%3D?line=1'>2</a>\u001b[0m b \u001b[39m=\u001b[39m linear_model\u001b[39m.\u001b[39mintercept_\n\u001b[0;32m      <a href='vscode-notebook-cell:/e%3A/GitHub/MachineLearningNotebooks/LinearRegression/linear_regression_sklearn.ipynb#X13sZmlsZQ%3D%3D?line=2'>3</a>\u001b[0m a \u001b[39m=\u001b[39m linear_model\u001b[39m.\u001b[39mcoef_\n\u001b[0;32m      <a href='vscode-notebook-cell:/e%3A/GitHub/MachineLearningNotebooks/LinearRegression/linear_regression_sklearn.ipynb#X13sZmlsZQ%3D%3D?line=3'>4</a>\u001b[0m \u001b[39mprint\u001b[39m(\u001b[39mf\u001b[39m\u001b[39m\"\u001b[39m\u001b[39ma = \u001b[39m\u001b[39m{\u001b[39;00ma\u001b[39m:\u001b[39;00m\u001b[39m}\u001b[39;00m\u001b[39m, b = \u001b[39m\u001b[39m{\u001b[39;00mb\u001b[39m:\u001b[39;00m\u001b[39m0.2f\u001b[39m\u001b[39m}\u001b[39;00m\u001b[39m\"\u001b[39m)\n",
      "\u001b[1;31mNameError\u001b[0m: name 'linear_model' is not defined"
     ]
    }
   ],
   "source": [
    "# Fetching parameters\n",
    "b = linear_model.intercept_\n",
    "a = linear_model.coef_\n",
    "print(f\"a = {a:}, b = {b:0.2f}\")"
   ]
  },
  {
   "cell_type": "code",
   "execution_count": 41,
   "metadata": {},
   "outputs": [
    {
     "name": "stdout",
     "output_type": "stream",
     "text": [
      "Prediction on training set:\n",
      " [474.73048913 333.84516506 466.57388754 219.98393717]\n",
      "prediction using w,b:\n",
      " [474.73048913 333.84516506 466.57388754 219.98393717]\n",
      "Target values \n",
      " [502.   340.   490.7  216.96]\n"
     ]
    }
   ],
   "source": [
    "print(f\"Prediction on training set:\\n {linear_model.predict(x_tdata)[:4]}\" )\n",
    "print(f\"prediction using w,b:\\n {(x_tdata @ a + b)[:4]}\")\n",
    "print(f\"Target values \\n {y_tdata[:4]}\")"
   ]
  },
  {
   "cell_type": "code",
   "execution_count": null,
   "metadata": {},
   "outputs": [],
   "source": []
  }
 ],
 "metadata": {
  "kernelspec": {
   "display_name": "Python 3",
   "language": "python",
   "name": "python3"
  },
  "language_info": {
   "codemirror_mode": {
    "name": "ipython",
    "version": 3
   },
   "file_extension": ".py",
   "mimetype": "text/x-python",
   "name": "python",
   "nbconvert_exporter": "python",
   "pygments_lexer": "ipython3",
   "version": "3.9.10"
  },
  "orig_nbformat": 4
 },
 "nbformat": 4,
 "nbformat_minor": 2
}
